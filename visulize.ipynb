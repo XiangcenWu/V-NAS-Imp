{
 "cells": [
  {
   "cell_type": "code",
   "execution_count": null,
   "metadata": {},
   "outputs": [],
   "source": [
    "import torch\n",
    "from V_NAS import Network, get_device\n",
    "from monai.metrics import DiceMetric, compute_meandice\n",
    "from monai.inferers import sliding_window_inference\n",
    "from monai.data import decollate_batch\n",
    "from monai.data import (\n",
    "    DataLoader,\n",
    "    Dataset,\n",
    "    load_decathlon_datalist,\n",
    "    \n",
    ")\n",
    "import matplotlib.pyplot as plt\n",
    "from monai.transforms import (\n",
    "    AsDiscrete,\n",
    "    AddChanneld,\n",
    "    Compose,\n",
    "    CropForegroundd,\n",
    "    LoadImaged,\n",
    "    Orientationd,\n",
    "    RandFlipd,\n",
    "    RandCropByPosNegLabeld,\n",
    "    RandShiftIntensityd,\n",
    "    ScaleIntensityRanged,\n",
    "    Spacingd,\n",
    "    RandRotate90d,\n",
    "    ToTensord,\n",
    ")\n",
    "\n",
    "val_transforms = Compose(\n",
    "    [\n",
    "        LoadImaged(keys=[\"image\", \"label\"]),\n",
    "        AddChanneld(keys=[\"image\", \"label\"]),\n",
    "        Orientationd(keys=[\"image\", \"label\"], axcodes=\"RAS\"),\n",
    "        Spacingd(\n",
    "            keys=[\"image\", \"label\"],\n",
    "            pixdim=(1.5, 1.5, 2.0),\n",
    "            mode=(\"bilinear\", \"nearest\"),\n",
    "        ),\n",
    "        ScaleIntensityRanged(\n",
    "            keys=[\"image\"], a_min=-175, a_max=250, b_min=0.0, b_max=1.0, clip=True\n",
    "        ),\n",
    "        CropForegroundd(keys=[\"image\", \"label\"], source_key=\"image\"),\n",
    "        ToTensord(keys=[\"image\", \"label\"]),\n",
    "    ]\n",
    ")\n",
    "\n",
    "device = get_device(1)"
   ]
  },
  {
   "cell_type": "code",
   "execution_count": null,
   "metadata": {},
   "outputs": [],
   "source": [
    "model = Network((64, 64, 64), 3)\n",
    "model.load_state_dict(torch.load(\"model/one_shot_with_test.ptb\"))\n",
    "model.to(device)"
   ]
  },
  {
   "cell_type": "code",
   "execution_count": null,
   "metadata": {},
   "outputs": [],
   "source": [
    "Val_datalist = load_decathlon_datalist(\"data/dataset.json\", True, \"val\")\n",
    "val_ds = Dataset(\n",
    "    data=Val_datalist, transform=val_transforms\n",
    ")\n",
    "val_loader = DataLoader(\n",
    "    val_ds, batch_size=1, shuffle=True, num_workers=4, pin_memory=True\n",
    ")"
   ]
  },
  {
   "cell_type": "code",
   "execution_count": null,
   "metadata": {},
   "outputs": [],
   "source": [
    "post_label = AsDiscrete(to_onehot=3)\n",
    "post_pred = AsDiscrete(argmax=True, to_onehot=3)\n",
    "\n",
    "\n",
    "\n",
    "def validation(model, val_loader):\n",
    "    score = []\n",
    "    model.eval()\n",
    "    with torch.no_grad():\n",
    "        for step, batch in enumerate(val_loader):\n",
    "            val_inputs, val_labels = (batch[\"image\"].to(device), batch[\"label\"].to(device))\n",
    "            val_outputs = sliding_window_inference(val_inputs, (64, 64, 64), 4, model)\n",
    "            # print(val_outputs.shape, val_labels.shape)\n",
    "            # break\n",
    "            \n",
    "            val_labels_converted = post_label(val_labels[0]).unsqueeze(0)\n",
    "            val_output_converted = post_pred(val_outputs[0]).unsqueeze(0)\n",
    "            score.append(compute_meandice(val_output_converted, val_labels_converted))\n",
    "            print(score)\n",
    "\n",
    "\n",
    "    return score\n",
    "\n",
    "\n",
    "score_list = validation(model, val_loader)\n",
    "print(score_list)"
   ]
  },
  {
   "cell_type": "code",
   "execution_count": null,
   "metadata": {},
   "outputs": [],
   "source": [
    "x = torch.ones(1, 3)\n",
    "for i in range(len(score_list)):\n",
    "    x = torch.cat((x, score_list[i].cpu()))\n",
    "\n",
    "x = x[1:, :]\n",
    "\n",
    "\n",
    "torch.save(x, \"./score_one_shot.pt\")"
   ]
  },
  {
   "cell_type": "code",
   "execution_count": null,
   "metadata": {},
   "outputs": [],
   "source": [
    "torch.std(x, dim=0), torch.mean(x, dim=0)"
   ]
  },
  {
   "cell_type": "code",
   "execution_count": null,
   "metadata": {},
   "outputs": [],
   "source": [
    "torch.max(x, dim=0), torch.min(x, dim=0), torch.median(x, dim=0)"
   ]
  },
  {
   "cell_type": "code",
   "execution_count": 1,
   "metadata": {},
   "outputs": [
    {
     "data": {
      "text/plain": [
       "tensor([[0.9981, 0.6119, 0.6945],\n",
       "        [0.9993, 0.6715, 0.6865],\n",
       "        [0.9992, 0.6079, 0.3120],\n",
       "        [0.9992, 0.6791, 0.7500],\n",
       "        [0.9988, 0.7256, 0.4642],\n",
       "        [0.9986, 0.4109, 0.0000],\n",
       "        [0.9990, 0.7824, 0.0000],\n",
       "        [0.9997, 0.8194, 0.0000],\n",
       "        [0.9988, 0.5011, 0.0231],\n",
       "        [0.9990, 0.6497, 0.3705],\n",
       "        [0.9996, 0.5929, 0.2356],\n",
       "        [0.9995, 0.7610, 0.0000],\n",
       "        [0.9993, 0.6204, 0.1426],\n",
       "        [0.9984, 0.5909, 0.4971],\n",
       "        [0.9991, 0.6210, 0.1695],\n",
       "        [0.9992, 0.4618, 0.2081],\n",
       "        [0.9989, 0.7259, 0.4295],\n",
       "        [0.9988, 0.5617, 0.6697],\n",
       "        [0.9987, 0.7401, 0.1002],\n",
       "        [0.9993, 0.6343, 0.5715],\n",
       "        [0.9994, 0.4161, 0.7172],\n",
       "        [0.9990, 0.5279, 0.1993],\n",
       "        [0.9991, 0.6963, 0.0358],\n",
       "        [0.9995, 0.6834, 0.0407],\n",
       "        [0.9993, 0.6133, 0.2447],\n",
       "        [0.9987, 0.6333, 0.0485],\n",
       "        [0.9992, 0.6690, 0.6087],\n",
       "        [0.9992, 0.7514, 0.0000]])"
      ]
     },
     "execution_count": 1,
     "metadata": {},
     "output_type": "execute_result"
    }
   ],
   "source": []
  },
  {
   "cell_type": "code",
   "execution_count": null,
   "metadata": {},
   "outputs": [],
   "source": []
  },
  {
   "cell_type": "code",
   "execution_count": null,
   "metadata": {},
   "outputs": [],
   "source": []
  },
  {
   "cell_type": "code",
   "execution_count": null,
   "metadata": {},
   "outputs": [],
   "source": []
  },
  {
   "cell_type": "code",
   "execution_count": null,
   "metadata": {},
   "outputs": [],
   "source": []
  },
  {
   "cell_type": "code",
   "execution_count": null,
   "metadata": {},
   "outputs": [],
   "source": []
  }
 ],
 "metadata": {
  "interpreter": {
   "hash": "083dd0ca1a0ae8171dcb59b4a4042e871dc6032b98b964d6014ff0fdb494fb5d"
  },
  "kernelspec": {
   "display_name": "Python 3.9.12 ('dl')",
   "language": "python",
   "name": "python3"
  },
  "language_info": {
   "codemirror_mode": {
    "name": "ipython",
    "version": 3
   },
   "file_extension": ".py",
   "mimetype": "text/x-python",
   "name": "python",
   "nbconvert_exporter": "python",
   "pygments_lexer": "ipython3",
   "version": "3.9.12"
  },
  "orig_nbformat": 4
 },
 "nbformat": 4,
 "nbformat_minor": 2
}
